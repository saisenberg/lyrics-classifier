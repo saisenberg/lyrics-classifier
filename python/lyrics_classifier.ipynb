{
 "cells": [
  {
   "cell_type": "markdown",
   "metadata": {},
   "source": [
    "## lyrics_classifier"
   ]
  },
  {
   "cell_type": "code",
   "execution_count": 1,
   "metadata": {},
   "outputs": [],
   "source": [
    "# Import dependencies\n",
    "import numpy as np\n",
    "import pandas as pd\n",
    "pd.options.mode.chained_assignment = None\n",
    "\n",
    "from nltk import word_tokenize\n",
    "from nltk.corpus import stopwords\n",
    "from nltk.stem.snowball import EnglishStemmer\n",
    "\n",
    "import json\n",
    "import re\n",
    "import string\n",
    "\n",
    "import warnings\n",
    "warnings.filterwarnings(\"ignore\", category=DeprecationWarning)\n",
    "warnings.simplefilter(action='ignore', category=FutureWarning)\n",
    "\n",
    "from sklearn.multiclass import OneVsRestClassifier\n",
    "from sklearn.cross_validation import cross_val_score, train_test_split\n",
    "from sklearn.feature_extraction.text import CountVectorizer, TfidfVectorizer \n",
    "from sklearn.linear_model import SGDClassifier\n",
    "from sklearn.metrics import classification_report\n",
    "from sklearn.model_selection import GridSearchCV\n",
    "from sklearn.naive_bayes import MultinomialNB\n",
    "from sklearn.pipeline import Pipeline\n",
    "\n",
    "from xgboost import XGBClassifier"
   ]
  },
  {
   "cell_type": "code",
   "execution_count": 2,
   "metadata": {},
   "outputs": [],
   "source": [
    "# Read lyrics data\n",
    "lyrics = pd.read_csv('.\\\\data\\\\lyrics.csv', encoding='unicode_escape')\n",
    "lyrics['artist_name'] = lyrics.apply(lambda x: x['artist_name'].lower(), axis=1)\n",
    "lyrics['original_line'] = lyrics['line']"
   ]
  },
  {
   "cell_type": "markdown",
   "metadata": {},
   "source": [
    "### Remove misclassified artists"
   ]
  },
  {
   "cell_type": "code",
   "execution_count": 3,
   "metadata": {},
   "outputs": [],
   "source": [
    "# Import genre artist lists\n",
    "file = open('.\\\\data\\\\json_genres.json')\n",
    "genres = json.load(file)\n",
    "file.close()"
   ]
  },
  {
   "cell_type": "code",
   "execution_count": 4,
   "metadata": {},
   "outputs": [],
   "source": [
    "# Check whether artists in a given genre are (potentially) misclassified\n",
    "def artistCheck(genre):\n",
    "    misclasses = []\n",
    "    artists = lyrics[lyrics.genre==genre].artist_name.unique()\n",
    "    for artist in artists:\n",
    "        if artist not in genres[genre]:\n",
    "            misclasses.append(artist)\n",
    "    return(misclasses)"
   ]
  },
  {
   "cell_type": "code",
   "execution_count": 5,
   "metadata": {
    "scrolled": true
   },
   "outputs": [
    {
     "data": {
      "text/plain": [
       "{'country': ['tyler, the creator',\n",
       "  'george jones & tammy wynette',\n",
       "  'hank williams jr.'],\n",
       " 'metal': ['queensrÿche', 'a$ap rocky', 'motörhead', \"guns n' roses\"],\n",
       " 'pop': ['andrea bocelli & céline dion', 'drake'],\n",
       " 'rap': ['a$ap rocky', 'royce da 5\\x929\\x94', 'j.i.d'],\n",
       " 'rock': ['florence + the machine', 'hieroglyphics', 'wild belle'],\n",
       " 'soul': ['sam smith', 'sir sly', 'telly', 'prince ea']}"
      ]
     },
     "execution_count": 5,
     "metadata": {},
     "output_type": "execute_result"
    }
   ],
   "source": [
    "# Collect misclassified artists of every genre\n",
    "misclass_dict = {}\n",
    "for genre in lyrics.genre.unique():\n",
    "    misclass_dict[genre] = artistCheck(genre)\n",
    "misclass_dict"
   ]
  },
  {
   "cell_type": "code",
   "execution_count": 6,
   "metadata": {},
   "outputs": [],
   "source": [
    "# Remove all actual misclasses\n",
    "lyrics = lyrics[~((lyrics.genre=='country') & (lyrics.artist_name=='tyler, the creator'))]\n",
    "lyrics = lyrics[~((lyrics.genre=='metal') & (lyrics.artist_name=='a$ap rocky'))]\n",
    "lyrics = lyrics[~((lyrics.genre=='pop') & (lyrics.artist_name=='drake'))]\n",
    "lyrics = lyrics[~((lyrics.genre=='rock') & (lyrics.artist_name=='hieroglyphics'))]\n",
    "lyrics = lyrics[~((lyrics.genre=='rock') & (lyrics.artist_name=='wild belle'))]\n",
    "lyrics = lyrics[~((lyrics.genre=='soul') & (lyrics.artist_name=='prince ea'))]\n",
    "lyrics = lyrics[~((lyrics.genre=='soul') & (lyrics.artist_name=='sam smith'))]\n",
    "lyrics = lyrics[~((lyrics.genre=='soul') & (lyrics.artist_name=='sir sly'))]\n",
    "lyrics = lyrics[~((lyrics.genre=='soul') & (lyrics.artist_name=='telly'))]\n",
    "lyrics = lyrics.reset_index(drop=True)"
   ]
  },
  {
   "cell_type": "code",
   "execution_count": 7,
   "metadata": {},
   "outputs": [],
   "source": [
    "# Remove artists that \"blur the line\" b/t genres [manual decision]\n",
    "removes_country = []\n",
    "removes_metal = []\n",
    "removes_pop = ['chris brown', 'nickelback', 'sheryl crow', 'taylor swift', 'matchbox twenty']\n",
    "removes_rap = []\n",
    "removes_rock = []\n",
    "removes_soul = []\n",
    "removes = removes_country + removes_metal + removes_pop + removes_rap + removes_rock + removes_soul\n",
    "\n",
    "lyrics = lyrics[~lyrics.artist_name.isin(removes)]"
   ]
  },
  {
   "cell_type": "markdown",
   "metadata": {},
   "source": [
    "### Text preprocessing"
   ]
  },
  {
   "cell_type": "code",
   "execution_count": 8,
   "metadata": {},
   "outputs": [],
   "source": [
    "# Process text for classification modeling\n",
    "def preprocessText(text, remove_stops=False):\n",
    "    \n",
    "    # Remove everything between hard brackets\n",
    "    text = re.sub(pattern=\"\\[.+?\\]( )?\", repl='', string=text)\n",
    "\n",
    "    # Change \"walkin'\" to \"walking\", for example\n",
    "    text = re.sub(pattern=\"n\\\\\\' \", repl='ng ', string=text)\n",
    "\n",
    "    # Remove x4 and (x4), for example\n",
    "    text = re.sub(pattern=\"(\\()?x\\d+(\\))?\", repl=' ', string=text)\n",
    "\n",
    "    # Fix apostrophe issues\n",
    "    text = re.sub(pattern=\"\\\\x91\", repl=\"'\", string=text)\n",
    "    text = re.sub(pattern=\"\\\\x92\", repl=\"'\", string=text)\n",
    "    text = re.sub(pattern=\"<u\\+0092>\", repl=\"'\", string=text)\n",
    "    \n",
    "    # Make lowercase\n",
    "    text = text.lower()\n",
    "    \n",
    "    # Special cases/words\n",
    "    text = re.sub(pattern=\"'til\", repl=\"til\", string=text)\n",
    "    text = re.sub(pattern=\"'til\", repl=\"til\", string=text)\n",
    "    text = re.sub(pattern=\"gon'\", repl=\"gon\", string=text)\n",
    "\n",
    "    # Remove \\n from beginning\n",
    "    text = re.sub(pattern='^\\n', repl='', string=text)\n",
    "\n",
    "    # Strip , ! ?, : and remaining \\n from lyrics\n",
    "    text = ''.join([char.strip(\",!?:\") for char in text])\n",
    "    text = text.replace('\\n', ' ')\n",
    "\n",
    "    # Remove contractions\n",
    "    # specific\n",
    "    text = re.sub(r\"won't\", \"will not\", text)\n",
    "    text = re.sub(r\"won\\’t\", \"will not\", text)\n",
    "    text = re.sub(r\"can't\", \"can not\", text)\n",
    "    text = re.sub(r\"can\\’t\", \"can not\", text)\n",
    "    text = re.sub(r\"let's\", \"let us\", text)\n",
    "    text = re.sub(r\"let\\’s\", \"let us\", text)\n",
    "    text = re.sub(r\"ain't\", \"aint\", text)\n",
    "    text = re.sub(r\"ain\\’t\", \"aint\", text)\n",
    "\n",
    "    # general\n",
    "    text = re.sub(r\"n\\'t\", \" not\", text)\n",
    "    text = re.sub(r\"\\'re\", \" are\", text)\n",
    "    text = re.sub(r\"\\'s\", \" is\", text)\n",
    "    text = re.sub(r\"\\'d\", \" would\", text)\n",
    "    text = re.sub(r\"\\'ll\", \" will\", text)\n",
    "    text = re.sub(r\"\\'t\", \" not\", text)\n",
    "    text = re.sub(r\"\\'ve\", \" have\", text)\n",
    "    text = re.sub(r\"\\'m\", \" am\", text)\n",
    "    text = re.sub(r\"n\\’t\", \" not\", text)\n",
    "    text = re.sub(r\"\\’re\", \" are\", text)\n",
    "    text = re.sub(r\"\\’s\", \" is\", text)\n",
    "    text = re.sub(r\"\\’d\", \" would\", text)\n",
    "    text = re.sub(r\"\\’ll\", \" will\", text)\n",
    "    text = re.sub(r\"\\’t\", \" not\", text)\n",
    "    text = re.sub(r\"\\’ve\", \" have\", text)\n",
    "    text = re.sub(r\"\\’m\", \" am\", text)\n",
    "\n",
    "    # Remove remaining punctuation\n",
    "    punc = string.punctuation\n",
    "    text = ''.join([char for char in text if char not in punc])\n",
    "\n",
    "    # Remove stopwords\n",
    "    if remove_stops:\n",
    "        stops = stopwords.words('english')\n",
    "        text = ' '.join([word for word in text.split(' ') if word not in stops])\n",
    "    \n",
    "    # Remove double spaces and beginning/trailing whitespace\n",
    "    text = re.sub(pattern='( ){2,}', repl=' ', string=text)\n",
    "    text = text.strip()\n",
    "    \n",
    "    return(text)"
   ]
  },
  {
   "cell_type": "code",
   "execution_count": 9,
   "metadata": {},
   "outputs": [],
   "source": [
    "lyrics['line'] = lyrics.apply(lambda x: preprocessText(x['line']), axis=1)"
   ]
  },
  {
   "cell_type": "markdown",
   "metadata": {},
   "source": [
    "### Stem words"
   ]
  },
  {
   "cell_type": "code",
   "execution_count": 10,
   "metadata": {},
   "outputs": [],
   "source": [
    "stemmer = EnglishStemmer()\n",
    "lyrics['line_stems'] = lyrics.apply(lambda x: ' '.join([stemmer.stem(word) for word in x['line'].split(' ')]), axis=1)\n",
    "lyrics['unique_stems'] = lyrics.apply(lambda x: ' '.join([stemmer.stem(word) for word in x['unique_words']]), axis=1)"
   ]
  },
  {
   "cell_type": "markdown",
   "metadata": {},
   "source": [
    "### Genre Classifier Models"
   ]
  },
  {
   "cell_type": "code",
   "execution_count": 11,
   "metadata": {},
   "outputs": [],
   "source": [
    "# Combine metal & rock\n",
    "lyrics['genre'] = lyrics.apply(lambda x: 'metal/rock' if x['genre'] in ['metal', 'rock'] else x['genre'], axis=1)\n",
    "\n",
    "# Train/test split\n",
    "train, test = train_test_split(lyrics, test_size=0.2, stratify=lyrics.genre, random_state=1)"
   ]
  },
  {
   "cell_type": "markdown",
   "metadata": {},
   "source": [
    "#### Naive Bayes"
   ]
  },
  {
   "cell_type": "code",
   "execution_count": 12,
   "metadata": {},
   "outputs": [
    {
     "data": {
      "text/plain": [
       "0.7063501162374193"
      ]
     },
     "execution_count": 12,
     "metadata": {},
     "output_type": "execute_result"
    }
   ],
   "source": [
    "# Naive Bayes model w/ k-fold CV\n",
    "text_mnb = Pipeline([('vect', CountVectorizer()),\n",
    "                     ('mnb', MultinomialNB(fit_prior=False))])\n",
    "text_mnb = text_mnb.fit(train.line_stems, train.genre)\n",
    "cross_val_score(estimator=text_mnb, X=train.line_stems, y=train.genre, cv=7).mean()"
   ]
  },
  {
   "cell_type": "code",
   "execution_count": 13,
   "metadata": {
    "scrolled": false
   },
   "outputs": [
    {
     "name": "stdout",
     "output_type": "stream",
     "text": [
      "0.7082847141190198\n",
      "             precision    recall  f1-score   support\n",
      "\n",
      "    country       0.60      0.66      0.63       296\n",
      " metal/rock       0.77      0.72      0.75       595\n",
      "        pop       0.55      0.57      0.56       231\n",
      "        rap       0.88      0.91      0.90       303\n",
      "       soul       0.64      0.63      0.64       289\n",
      "\n",
      "avg / total       0.71      0.71      0.71      1714\n",
      "\n"
     ]
    },
    {
     "data": {
      "text/html": [
       "<div>\n",
       "<style scoped>\n",
       "    .dataframe tbody tr th:only-of-type {\n",
       "        vertical-align: middle;\n",
       "    }\n",
       "\n",
       "    .dataframe tbody tr th {\n",
       "        vertical-align: top;\n",
       "    }\n",
       "\n",
       "    .dataframe thead th {\n",
       "        text-align: right;\n",
       "    }\n",
       "</style>\n",
       "<table border=\"1\" class=\"dataframe\">\n",
       "  <thead>\n",
       "    <tr style=\"text-align: right;\">\n",
       "      <th>genre</th>\n",
       "      <th>country</th>\n",
       "      <th>metal/rock</th>\n",
       "      <th>pop</th>\n",
       "      <th>rap</th>\n",
       "      <th>soul</th>\n",
       "    </tr>\n",
       "    <tr>\n",
       "      <th>row_0</th>\n",
       "      <th></th>\n",
       "      <th></th>\n",
       "      <th></th>\n",
       "      <th></th>\n",
       "      <th></th>\n",
       "    </tr>\n",
       "  </thead>\n",
       "  <tbody>\n",
       "    <tr>\n",
       "      <th>country</th>\n",
       "      <td>195</td>\n",
       "      <td>60</td>\n",
       "      <td>23</td>\n",
       "      <td>7</td>\n",
       "      <td>38</td>\n",
       "    </tr>\n",
       "    <tr>\n",
       "      <th>metal/rock</th>\n",
       "      <td>51</td>\n",
       "      <td>427</td>\n",
       "      <td>34</td>\n",
       "      <td>7</td>\n",
       "      <td>32</td>\n",
       "    </tr>\n",
       "    <tr>\n",
       "      <th>pop</th>\n",
       "      <td>20</td>\n",
       "      <td>44</td>\n",
       "      <td>132</td>\n",
       "      <td>11</td>\n",
       "      <td>33</td>\n",
       "    </tr>\n",
       "    <tr>\n",
       "      <th>rap</th>\n",
       "      <td>4</td>\n",
       "      <td>15</td>\n",
       "      <td>14</td>\n",
       "      <td>277</td>\n",
       "      <td>3</td>\n",
       "    </tr>\n",
       "    <tr>\n",
       "      <th>soul</th>\n",
       "      <td>26</td>\n",
       "      <td>49</td>\n",
       "      <td>28</td>\n",
       "      <td>1</td>\n",
       "      <td>183</td>\n",
       "    </tr>\n",
       "  </tbody>\n",
       "</table>\n",
       "</div>"
      ],
      "text/plain": [
       "genre       country  metal/rock  pop  rap  soul\n",
       "row_0                                          \n",
       "country         195          60   23    7    38\n",
       "metal/rock       51         427   34    7    32\n",
       "pop              20          44  132   11    33\n",
       "rap               4          15   14  277     3\n",
       "soul             26          49   28    1   183"
      ]
     },
     "execution_count": 13,
     "metadata": {},
     "output_type": "execute_result"
    }
   ],
   "source": [
    "# Naive Bayes test results\n",
    "print(text_mnb.score(y=test.genre, X=test.line_stems))\n",
    "preds = text_mnb.predict(test.line_stems)\n",
    "print(classification_report(y_pred=preds, y_true=test.genre))\n",
    "pd.crosstab(preds, test.genre)"
   ]
  },
  {
   "cell_type": "markdown",
   "metadata": {},
   "source": [
    "#### SVM"
   ]
  },
  {
   "cell_type": "code",
   "execution_count": 14,
   "metadata": {},
   "outputs": [
    {
     "data": {
      "text/plain": [
       "0.7302637115804914"
      ]
     },
     "execution_count": 14,
     "metadata": {},
     "output_type": "execute_result"
    }
   ],
   "source": [
    "# SVM model with k-fold CV\n",
    "text_svm = Pipeline([('vect', TfidfVectorizer(ngram_range=(1,2))),\n",
    "                     ('svm', SGDClassifier(loss='hinge', penalty='l2', alpha=1e-4,\n",
    "                                           n_iter=25, random_state=123))])\n",
    "text_svm = text_svm.fit(train.line_stems, train.genre)\n",
    "cross_val_score(estimator=text_svm, X=train.line, y=train.genre, cv=7).mean()"
   ]
  },
  {
   "cell_type": "code",
   "execution_count": 15,
   "metadata": {
    "scrolled": false
   },
   "outputs": [
    {
     "name": "stdout",
     "output_type": "stream",
     "text": [
      "0.7409568261376897\n",
      "             precision    recall  f1-score   support\n",
      "\n",
      "    country       0.68      0.66      0.67       296\n",
      " metal/rock       0.73      0.82      0.78       595\n",
      "        pop       0.69      0.48      0.56       231\n",
      "        rap       0.92      0.95      0.93       303\n",
      "       soul       0.65      0.65      0.65       289\n",
      "\n",
      "avg / total       0.74      0.74      0.74      1714\n",
      "\n"
     ]
    },
    {
     "data": {
      "text/html": [
       "<div>\n",
       "<style scoped>\n",
       "    .dataframe tbody tr th:only-of-type {\n",
       "        vertical-align: middle;\n",
       "    }\n",
       "\n",
       "    .dataframe tbody tr th {\n",
       "        vertical-align: top;\n",
       "    }\n",
       "\n",
       "    .dataframe thead th {\n",
       "        text-align: right;\n",
       "    }\n",
       "</style>\n",
       "<table border=\"1\" class=\"dataframe\">\n",
       "  <thead>\n",
       "    <tr style=\"text-align: right;\">\n",
       "      <th>genre</th>\n",
       "      <th>country</th>\n",
       "      <th>metal/rock</th>\n",
       "      <th>pop</th>\n",
       "      <th>rap</th>\n",
       "      <th>soul</th>\n",
       "    </tr>\n",
       "    <tr>\n",
       "      <th>row_0</th>\n",
       "      <th></th>\n",
       "      <th></th>\n",
       "      <th></th>\n",
       "      <th></th>\n",
       "      <th></th>\n",
       "    </tr>\n",
       "  </thead>\n",
       "  <tbody>\n",
       "    <tr>\n",
       "      <th>country</th>\n",
       "      <td>196</td>\n",
       "      <td>38</td>\n",
       "      <td>14</td>\n",
       "      <td>2</td>\n",
       "      <td>37</td>\n",
       "    </tr>\n",
       "    <tr>\n",
       "      <th>metal/rock</th>\n",
       "      <td>59</td>\n",
       "      <td>490</td>\n",
       "      <td>58</td>\n",
       "      <td>8</td>\n",
       "      <td>52</td>\n",
       "    </tr>\n",
       "    <tr>\n",
       "      <th>pop</th>\n",
       "      <td>9</td>\n",
       "      <td>23</td>\n",
       "      <td>110</td>\n",
       "      <td>4</td>\n",
       "      <td>13</td>\n",
       "    </tr>\n",
       "    <tr>\n",
       "      <th>rap</th>\n",
       "      <td>2</td>\n",
       "      <td>9</td>\n",
       "      <td>15</td>\n",
       "      <td>287</td>\n",
       "      <td>0</td>\n",
       "    </tr>\n",
       "    <tr>\n",
       "      <th>soul</th>\n",
       "      <td>30</td>\n",
       "      <td>35</td>\n",
       "      <td>34</td>\n",
       "      <td>2</td>\n",
       "      <td>187</td>\n",
       "    </tr>\n",
       "  </tbody>\n",
       "</table>\n",
       "</div>"
      ],
      "text/plain": [
       "genre       country  metal/rock  pop  rap  soul\n",
       "row_0                                          \n",
       "country         196          38   14    2    37\n",
       "metal/rock       59         490   58    8    52\n",
       "pop               9          23  110    4    13\n",
       "rap               2           9   15  287     0\n",
       "soul             30          35   34    2   187"
      ]
     },
     "execution_count": 15,
     "metadata": {},
     "output_type": "execute_result"
    }
   ],
   "source": [
    "# SVM test results\n",
    "print(text_svm.score(y=test.genre, X=test.line_stems))\n",
    "preds_svm = text_svm.predict(test.line_stems)\n",
    "print(classification_report(y_pred=preds_svm, y_true=test.genre))\n",
    "pd.crosstab(preds_svm, test.genre)"
   ]
  },
  {
   "cell_type": "code",
   "execution_count": 16,
   "metadata": {},
   "outputs": [],
   "source": [
    "# Which songs did the svm model misclassify?\n",
    "test['preds_svm'] = preds_svm\n",
    "misclasses_svm = test[test.preds_svm != test.genre]\n",
    "misclasses_svm['misclass_combo'] = misclasses_svm.apply(lambda x: x['genre']+'-'+x['preds_svm'], axis=1)"
   ]
  },
  {
   "cell_type": "code",
   "execution_count": 17,
   "metadata": {},
   "outputs": [
    {
     "data": {
      "text/plain": [
       "country-metal/rock    59\n",
       "pop-metal/rock        58\n",
       "soul-metal/rock       52\n",
       "metal/rock-country    38\n",
       "soul-country          37\n",
       "metal/rock-soul       35\n",
       "pop-soul              34\n",
       "country-soul          30\n",
       "metal/rock-pop        23\n",
       "pop-rap               15\n",
       "pop-country           14\n",
       "soul-pop              13\n",
       "metal/rock-rap         9\n",
       "country-pop            9\n",
       "rap-metal/rock         8\n",
       "rap-pop                4\n",
       "rap-soul               2\n",
       "rap-country            2\n",
       "country-rap            2\n",
       "Name: misclass_combo, dtype: int64"
      ]
     },
     "execution_count": 17,
     "metadata": {},
     "output_type": "execute_result"
    }
   ],
   "source": [
    "misclasses_svm.misclass_combo.value_counts()"
   ]
  },
  {
   "cell_type": "code",
   "execution_count": 18,
   "metadata": {
    "scrolled": true
   },
   "outputs": [
    {
     "data": {
      "text/html": [
       "<div>\n",
       "<style scoped>\n",
       "    .dataframe tbody tr th:only-of-type {\n",
       "        vertical-align: middle;\n",
       "    }\n",
       "\n",
       "    .dataframe tbody tr th {\n",
       "        vertical-align: top;\n",
       "    }\n",
       "\n",
       "    .dataframe thead th {\n",
       "        text-align: right;\n",
       "    }\n",
       "</style>\n",
       "<table border=\"1\" class=\"dataframe\">\n",
       "  <thead>\n",
       "    <tr style=\"text-align: right;\">\n",
       "      <th></th>\n",
       "      <th>line</th>\n",
       "      <th>song_id</th>\n",
       "      <th>song_name</th>\n",
       "      <th>artist_id</th>\n",
       "      <th>artist_name</th>\n",
       "      <th>characters</th>\n",
       "      <th>genre</th>\n",
       "      <th>original_line</th>\n",
       "      <th>unique_words</th>\n",
       "      <th>num_unique_words</th>\n",
       "      <th>line_stems</th>\n",
       "      <th>unique_stems</th>\n",
       "      <th>preds_svm</th>\n",
       "      <th>misclass_combo</th>\n",
       "    </tr>\n",
       "  </thead>\n",
       "  <tbody>\n",
       "    <tr>\n",
       "      <th>656</th>\n",
       "      <td>splish splash i was taking a bath long about a...</td>\n",
       "      <td>1728080</td>\n",
       "      <td>Splish Splash</td>\n",
       "      <td>223639</td>\n",
       "      <td>conway twitty</td>\n",
       "      <td>1274</td>\n",
       "      <td>country</td>\n",
       "      <td>Splish Splash, I was takin' a bath\\nLong about...</td>\n",
       "      <td>[a, about, agroovin, agroovinwoo, all, alright...</td>\n",
       "      <td>107</td>\n",
       "      <td>splish splash i was take a bath long about a s...</td>\n",
       "      <td>a about agroovin agroovinwoo all alright amov ...</td>\n",
       "      <td>rap</td>\n",
       "      <td>country-rap</td>\n",
       "    </tr>\n",
       "    <tr>\n",
       "      <th>1411</th>\n",
       "      <td>gimme some straight talk straight talk and hol...</td>\n",
       "      <td>208250</td>\n",
       "      <td>Straight Talk</td>\n",
       "      <td>20955</td>\n",
       "      <td>dolly parton</td>\n",
       "      <td>1859</td>\n",
       "      <td>country</td>\n",
       "      <td>[Chorus]\\nGimme some straight talk, straight t...</td>\n",
       "      <td>[a, about, all, alone, alright, am, america, a...</td>\n",
       "      <td>129</td>\n",
       "      <td>gimm some straight talk straight talk and hold...</td>\n",
       "      <td>a about all alon alright am america an and ans...</td>\n",
       "      <td>rap</td>\n",
       "      <td>country-rap</td>\n",
       "    </tr>\n",
       "  </tbody>\n",
       "</table>\n",
       "</div>"
      ],
      "text/plain": [
       "                                                   line  song_id  \\\n",
       "656   splish splash i was taking a bath long about a...  1728080   \n",
       "1411  gimme some straight talk straight talk and hol...   208250   \n",
       "\n",
       "          song_name  artist_id    artist_name  characters    genre  \\\n",
       "656   Splish Splash     223639  conway twitty        1274  country   \n",
       "1411  Straight Talk      20955   dolly parton        1859  country   \n",
       "\n",
       "                                          original_line  \\\n",
       "656   Splish Splash, I was takin' a bath\\nLong about...   \n",
       "1411  [Chorus]\\nGimme some straight talk, straight t...   \n",
       "\n",
       "                                           unique_words  num_unique_words  \\\n",
       "656   [a, about, agroovin, agroovinwoo, all, alright...               107   \n",
       "1411  [a, about, all, alone, alright, am, america, a...               129   \n",
       "\n",
       "                                             line_stems  \\\n",
       "656   splish splash i was take a bath long about a s...   \n",
       "1411  gimm some straight talk straight talk and hold...   \n",
       "\n",
       "                                           unique_stems preds_svm  \\\n",
       "656   a about agroovin agroovinwoo all alright amov ...       rap   \n",
       "1411  a about all alon alright am america an and ans...       rap   \n",
       "\n",
       "     misclass_combo  \n",
       "656     country-rap  \n",
       "1411    country-rap  "
      ]
     },
     "execution_count": 18,
     "metadata": {},
     "output_type": "execute_result"
    }
   ],
   "source": [
    "misclasses_svm[misclasses_svm.misclass_combo=='country-rap']"
   ]
  },
  {
   "cell_type": "code",
   "execution_count": 19,
   "metadata": {},
   "outputs": [],
   "source": [
    "# Re-train model on full data set\n",
    "full_text_svm = Pipeline([('vect', TfidfVectorizer(ngram_range=(1,2))),\n",
    "                          ('svm', SGDClassifier(loss='hinge', penalty='l2', alpha=1e-4, \n",
    "                                                n_iter=20, random_state=123))])\n",
    "full_text_svm = full_text_svm.fit(lyrics.line, lyrics.genre)"
   ]
  },
  {
   "cell_type": "markdown",
   "metadata": {},
   "source": [
    "#### XGBoost"
   ]
  },
  {
   "cell_type": "code",
   "execution_count": 20,
   "metadata": {},
   "outputs": [],
   "source": [
    "# XGB model\n",
    "vect = TfidfVectorizer(ngram_range=(1,2))\n",
    "vect.fit_transform(train.line_stems)\n",
    "vect_test = vect.transform(pd.Series(test.line_stems))"
   ]
  },
  {
   "cell_type": "code",
   "execution_count": 21,
   "metadata": {},
   "outputs": [],
   "source": [
    "xgb = XGBClassifier(learning_rate=0.25, subsample=0.8, gamma=1, random_state=123, max_depth=4, max_delta_step=1).fit(vect_train, train.genre)"
   ]
  },
  {
   "cell_type": "code",
   "execution_count": 22,
   "metadata": {
    "scrolled": false
   },
   "outputs": [
    {
     "name": "stdout",
     "output_type": "stream",
     "text": [
      "0.7666277712952159\n",
      "             precision    recall  f1-score   support\n",
      "\n",
      "    country       0.71      0.62      0.67       296\n",
      " metal/rock       0.73      0.86      0.79       595\n",
      "        pop       0.78      0.58      0.67       231\n",
      "        rap       0.96      0.95      0.96       303\n",
      "       soul       0.70      0.67      0.69       289\n",
      "\n",
      "avg / total       0.77      0.77      0.76      1714\n",
      "\n"
     ]
    },
    {
     "data": {
      "text/html": [
       "<div>\n",
       "<style scoped>\n",
       "    .dataframe tbody tr th:only-of-type {\n",
       "        vertical-align: middle;\n",
       "    }\n",
       "\n",
       "    .dataframe tbody tr th {\n",
       "        vertical-align: top;\n",
       "    }\n",
       "\n",
       "    .dataframe thead th {\n",
       "        text-align: right;\n",
       "    }\n",
       "</style>\n",
       "<table border=\"1\" class=\"dataframe\">\n",
       "  <thead>\n",
       "    <tr style=\"text-align: right;\">\n",
       "      <th>genre</th>\n",
       "      <th>country</th>\n",
       "      <th>metal/rock</th>\n",
       "      <th>pop</th>\n",
       "      <th>rap</th>\n",
       "      <th>soul</th>\n",
       "    </tr>\n",
       "    <tr>\n",
       "      <th>row_0</th>\n",
       "      <th></th>\n",
       "      <th></th>\n",
       "      <th></th>\n",
       "      <th></th>\n",
       "      <th></th>\n",
       "    </tr>\n",
       "  </thead>\n",
       "  <tbody>\n",
       "    <tr>\n",
       "      <th>country</th>\n",
       "      <td>185</td>\n",
       "      <td>34</td>\n",
       "      <td>8</td>\n",
       "      <td>4</td>\n",
       "      <td>29</td>\n",
       "    </tr>\n",
       "    <tr>\n",
       "      <th>metal/rock</th>\n",
       "      <td>79</td>\n",
       "      <td>513</td>\n",
       "      <td>58</td>\n",
       "      <td>4</td>\n",
       "      <td>53</td>\n",
       "    </tr>\n",
       "    <tr>\n",
       "      <th>pop</th>\n",
       "      <td>6</td>\n",
       "      <td>12</td>\n",
       "      <td>135</td>\n",
       "      <td>6</td>\n",
       "      <td>14</td>\n",
       "    </tr>\n",
       "    <tr>\n",
       "      <th>rap</th>\n",
       "      <td>0</td>\n",
       "      <td>1</td>\n",
       "      <td>11</td>\n",
       "      <td>288</td>\n",
       "      <td>0</td>\n",
       "    </tr>\n",
       "    <tr>\n",
       "      <th>soul</th>\n",
       "      <td>26</td>\n",
       "      <td>35</td>\n",
       "      <td>19</td>\n",
       "      <td>1</td>\n",
       "      <td>193</td>\n",
       "    </tr>\n",
       "  </tbody>\n",
       "</table>\n",
       "</div>"
      ],
      "text/plain": [
       "genre       country  metal/rock  pop  rap  soul\n",
       "row_0                                          \n",
       "country         185          34    8    4    29\n",
       "metal/rock       79         513   58    4    53\n",
       "pop               6          12  135    6    14\n",
       "rap               0           1   11  288     0\n",
       "soul             26          35   19    1   193"
      ]
     },
     "execution_count": 22,
     "metadata": {},
     "output_type": "execute_result"
    }
   ],
   "source": [
    "print(xgb.score(y=test.genre, X=vect_test))\n",
    "preds_xgb = xgb.predict(vect_test)\n",
    "print(classification_report(y_pred=preds_xgb, y_true=test.genre))\n",
    "pd.crosstab(xgb.predict(vect_test), test.genre)"
   ]
  },
  {
   "cell_type": "code",
   "execution_count": 23,
   "metadata": {},
   "outputs": [],
   "source": [
    "# Which songs did the xgb model misclassify?\n",
    "test['preds_xgb'] = preds_xgb\n",
    "misclasses_xgb = test[test.preds_xgb != test.genre]\n",
    "misclasses_xgb['misclass_combo'] = misclasses_xgb.apply(lambda x: x['genre']+'-'+x['preds_xgb'], axis=1)"
   ]
  },
  {
   "cell_type": "code",
   "execution_count": 24,
   "metadata": {},
   "outputs": [
    {
     "data": {
      "text/plain": [
       "country-metal/rock    79\n",
       "pop-metal/rock        58\n",
       "soul-metal/rock       53\n",
       "metal/rock-soul       35\n",
       "metal/rock-country    34\n",
       "soul-country          29\n",
       "country-soul          26\n",
       "pop-soul              19\n",
       "soul-pop              14\n",
       "metal/rock-pop        12\n",
       "pop-rap               11\n",
       "pop-country            8\n",
       "country-pop            6\n",
       "rap-pop                6\n",
       "rap-country            4\n",
       "rap-metal/rock         4\n",
       "rap-soul               1\n",
       "metal/rock-rap         1\n",
       "Name: misclass_combo, dtype: int64"
      ]
     },
     "execution_count": 24,
     "metadata": {},
     "output_type": "execute_result"
    }
   ],
   "source": [
    "misclasses_xgb.misclass_combo.value_counts()"
   ]
  },
  {
   "cell_type": "code",
   "execution_count": 25,
   "metadata": {
    "scrolled": true
   },
   "outputs": [
    {
     "data": {
      "text/html": [
       "<div>\n",
       "<style scoped>\n",
       "    .dataframe tbody tr th:only-of-type {\n",
       "        vertical-align: middle;\n",
       "    }\n",
       "\n",
       "    .dataframe tbody tr th {\n",
       "        vertical-align: top;\n",
       "    }\n",
       "\n",
       "    .dataframe thead th {\n",
       "        text-align: right;\n",
       "    }\n",
       "</style>\n",
       "<table border=\"1\" class=\"dataframe\">\n",
       "  <thead>\n",
       "    <tr style=\"text-align: right;\">\n",
       "      <th></th>\n",
       "      <th>line</th>\n",
       "      <th>song_id</th>\n",
       "      <th>song_name</th>\n",
       "      <th>artist_id</th>\n",
       "      <th>artist_name</th>\n",
       "      <th>characters</th>\n",
       "      <th>genre</th>\n",
       "      <th>original_line</th>\n",
       "      <th>unique_words</th>\n",
       "      <th>num_unique_words</th>\n",
       "      <th>line_stems</th>\n",
       "      <th>unique_stems</th>\n",
       "      <th>preds_svm</th>\n",
       "      <th>preds_xgb</th>\n",
       "      <th>misclass_combo</th>\n",
       "    </tr>\n",
       "  </thead>\n",
       "  <tbody>\n",
       "    <tr>\n",
       "      <th>7108</th>\n",
       "      <td>this time i came to get mine i saw this cat ru...</td>\n",
       "      <td>338348</td>\n",
       "      <td>Liquid Diet</td>\n",
       "      <td>424</td>\n",
       "      <td>papa roach</td>\n",
       "      <td>1689</td>\n",
       "      <td>metal/rock</td>\n",
       "      <td>[Chorus 1]\\nThis time, I came to get mine\\nI s...</td>\n",
       "      <td>[a, about, absurd, abused, am, and, as, back, ...</td>\n",
       "      <td>174</td>\n",
       "      <td>this time i came to get mine i saw this cat ru...</td>\n",
       "      <td>a about absurd abus am and as back bag bang be...</td>\n",
       "      <td>rap</td>\n",
       "      <td>rap</td>\n",
       "      <td>metal/rock-rap</td>\n",
       "    </tr>\n",
       "  </tbody>\n",
       "</table>\n",
       "</div>"
      ],
      "text/plain": [
       "                                                   line  song_id    song_name  \\\n",
       "7108  this time i came to get mine i saw this cat ru...   338348  Liquid Diet   \n",
       "\n",
       "      artist_id artist_name  characters       genre  \\\n",
       "7108        424  papa roach        1689  metal/rock   \n",
       "\n",
       "                                          original_line  \\\n",
       "7108  [Chorus 1]\\nThis time, I came to get mine\\nI s...   \n",
       "\n",
       "                                           unique_words  num_unique_words  \\\n",
       "7108  [a, about, absurd, abused, am, and, as, back, ...               174   \n",
       "\n",
       "                                             line_stems  \\\n",
       "7108  this time i came to get mine i saw this cat ru...   \n",
       "\n",
       "                                           unique_stems preds_svm preds_xgb  \\\n",
       "7108  a about absurd abus am and as back bag bang be...       rap       rap   \n",
       "\n",
       "      misclass_combo  \n",
       "7108  metal/rock-rap  "
      ]
     },
     "execution_count": 25,
     "metadata": {},
     "output_type": "execute_result"
    }
   ],
   "source": [
    "misclasses_xgb[misclasses_xgb.misclass_combo=='metal/rock-rap'].sort_values('artist_name')"
   ]
  },
  {
   "cell_type": "markdown",
   "metadata": {},
   "source": [
    "#### Deploy SVM model on new text"
   ]
  },
  {
   "cell_type": "code",
   "execution_count": 26,
   "metadata": {},
   "outputs": [],
   "source": [
    "# Process and predict genre of text (SVM)\n",
    "def svmLyricClassifier(text):\n",
    "    text = preprocessText(text)\n",
    "    text = ' '.join([stemmer.stem(word) for word in text.split(' ')])\n",
    "    print(full_text_svm.predict([text]))"
   ]
  },
  {
   "cell_type": "code",
   "execution_count": 27,
   "metadata": {},
   "outputs": [
    {
     "name": "stdout",
     "output_type": "stream",
     "text": [
      "['country']\n"
     ]
    }
   ],
   "source": [
    "# Zac Brown Band - Chicken Fried\n",
    "svmLyricClassifier(\n",
    "'''\n",
    "Well I was raised up beneath the shade of a Georgia Pine\n",
    "And that's home you know\n",
    "Sweet tea, pecan pie, and homemade wine where the peaches grow\n",
    "And my house it's not much to talk about\n",
    "But it's filled with love that's grown in southern ground\n",
    "''')"
   ]
  },
  {
   "cell_type": "code",
   "execution_count": 28,
   "metadata": {},
   "outputs": [
    {
     "name": "stdout",
     "output_type": "stream",
     "text": [
      "['metal/rock']\n"
     ]
    }
   ],
   "source": [
    "# Nickelback - Photograph\n",
    "svmLyricClassifier(\n",
    "'''\n",
    "Look at this photograph\n",
    "Every time I do, it makes me laugh\n",
    "How did our eyes get so red?\n",
    "And what the hell is on Joey's head?\n",
    "And this is where I grew up\n",
    "I think the present owner fixed it up\n",
    "I never knew we ever went without\n",
    "The second floor is hard for sneaking out\n",
    "''')"
   ]
  },
  {
   "cell_type": "code",
   "execution_count": 29,
   "metadata": {},
   "outputs": [
    {
     "name": "stdout",
     "output_type": "stream",
     "text": [
      "['pop']\n"
     ]
    }
   ],
   "source": [
    "# One Direction - What Makes You Beautiful\n",
    "svmLyricClassifier(\n",
    "'''\n",
    "Baby, you light up my world like nobody else\n",
    "The way that you flip your hair gets me overwhelmed\n",
    "But when you smile at the ground, it ain't hard to tell\n",
    "You don't know, oh, oh, you don't know you're beautiful\n",
    "If only you saw what I can see\n",
    "You'll understand why I want you so desperately\n",
    "Right now I'm looking at you and I can't believe\n",
    "You don't know, you don't know you're beautiful\n",
    "That's what makes you beautiful\n",
    "''')"
   ]
  },
  {
   "cell_type": "code",
   "execution_count": 30,
   "metadata": {},
   "outputs": [
    {
     "name": "stdout",
     "output_type": "stream",
     "text": [
      "['rap']\n"
     ]
    }
   ],
   "source": [
    "# Wu-Tang Clan - C.R.E.A.M.\n",
    "svmLyricClassifier(\n",
    "'''\n",
    "I grew up on the crime side, the New York Times side\n",
    "Stayin' alive was no jive\n",
    "Had secondhands, Mom's bounced on old man\n",
    "So then we moved to Shaolin land\n",
    "A young youth, yo, rockin' the gold tooth, 'Lo goose\n",
    "Only way I be gettin' the G off was drug loot\n",
    "And let's start it like this, son\n",
    "Rollin' with this one and that one\n",
    "Pullin' out gats for fun\n",
    "''')"
   ]
  },
  {
   "cell_type": "code",
   "execution_count": 31,
   "metadata": {},
   "outputs": [
    {
     "name": "stdout",
     "output_type": "stream",
     "text": [
      "['soul']\n"
     ]
    }
   ],
   "source": [
    "# Patti LaBelle - My Friend\n",
    "svmLyricClassifier(\n",
    "'''\n",
    "The thought of you helps me carry on\n",
    "When I feel all hope is gone\n",
    "I see the world wit brand new eyes\n",
    "Your love has made me realize\n",
    "My future looks bright to me\n",
    "Oh because you are my friend\n",
    "I've been looking around and you were here all the time\n",
    "I've been around and around and around and around\n",
    "I've been looking around and you were here all the time\n",
    "''')"
   ]
  },
  {
   "cell_type": "markdown",
   "metadata": {},
   "source": [
    "#### Deploy XGB model on new text"
   ]
  },
  {
   "cell_type": "code",
   "execution_count": 32,
   "metadata": {},
   "outputs": [],
   "source": [
    "# Process and predict genre of text (XGB)\n",
    "def xgbLyricClassifier(text):\n",
    "    text = preprocessText(text)\n",
    "    text = ' '.join([stemmer.stem(word) for word in text.split(' ')])\n",
    "    text = vect.transform(pd.Series(text))\n",
    "    return(xgb.predict(text))"
   ]
  },
  {
   "cell_type": "code",
   "execution_count": 33,
   "metadata": {},
   "outputs": [
    {
     "data": {
      "text/plain": [
       "array(['rap'], dtype=object)"
      ]
     },
     "execution_count": 33,
     "metadata": {},
     "output_type": "execute_result"
    }
   ],
   "source": [
    "# Trippie Redd - Poles1469\n",
    "xgbLyricClassifier('''\n",
    "Scum Gang!\n",
    "I'm toting big shit (big shit)\n",
    "Get your wig split (wig split)\n",
    "4-5, I call that the big bitch (big stick)\n",
    "We don't miss shit (miss shit)\n",
    "Get your ribs hit (limbs hit)\n",
    "Hollow tip, hit you with a cross hit (yeaaah)\n",
    "Big drum on the gun, that's a pump with a red beam\n",
    "Catch him in the bed while he sleep, that's a wet dream\n",
    "(That's a wet dream)\n",
    "Close range headshots, fuck where the vest be\n",
    "Put a hole in his head, he a dolphin (you a dolphin)\n",
    "Pull up to the block, you don’t want it (that's that dummy shit)\n",
    "Pull up with the Glock, you won't want it (brrrah!, stoopid)\n",
    "Scum Gang, bitch, we on it, you don't want it (ooh, ooh)\n",
    "1400, bitch, you know I tote a pole\n",
    "With 6ix9ine, bitch, you know we tote them poles\n",
    "Tote a pole, tote a pole, tote a pole\n",
    "You talk down, we gon' let that shit go (grrrat!)\n",
    "Let it blow, let it blow, let it blow (let that bitch go)\n",
    "Got the scope, got the scope, got the scope\n",
    ".223's and I put 'em to your nose (to your nose)\n",
    "Let it go, bitch, we let that shit go\n",
    "''')"
   ]
  }
 ],
 "metadata": {
  "kernelspec": {
   "display_name": "Python 3",
   "language": "python",
   "name": "python3"
  },
  "language_info": {
   "codemirror_mode": {
    "name": "ipython",
    "version": 3
   },
   "file_extension": ".py",
   "mimetype": "text/x-python",
   "name": "python",
   "nbconvert_exporter": "python",
   "pygments_lexer": "ipython3",
   "version": "3.6.5"
  }
 },
 "nbformat": 4,
 "nbformat_minor": 2
}
