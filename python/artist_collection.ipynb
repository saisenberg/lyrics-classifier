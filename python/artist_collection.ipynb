{
 "cells": [
  {
   "cell_type": "code",
   "execution_count": 1,
   "metadata": {},
   "outputs": [],
   "source": [
    "import numpy as np\n",
    "import pandas as pd\n",
    "import json\n",
    "import re\n",
    "\n",
    "import requests\n",
    "from bs4 import BeautifulSoup"
   ]
  },
  {
   "cell_type": "code",
   "execution_count": 2,
   "metadata": {},
   "outputs": [],
   "source": [
    "genres = {}"
   ]
  },
  {
   "cell_type": "markdown",
   "metadata": {},
   "source": [
    "### Rap"
   ]
  },
  {
   "cell_type": "code",
   "execution_count": 3,
   "metadata": {},
   "outputs": [],
   "source": [
    "# Ranker (Rap)\n",
    "url = 'https://www.ranker.com/crowdranked-list/the-greatest-rappers-of-all-time'\n",
    "response = requests.get(url)\n",
    "soup = BeautifulSoup(response.text, 'lxml')\n",
    "\n",
    "rappers_ranker_1 = []\n",
    "for artist in soup.findAll('meta', {'itemprop':'name'}):\n",
    "    if artist['content'] != 'The Greatest Rappers of All Time':\n",
    "        rappers_ranker_1.append(artist['content'].lower().strip())"
   ]
  },
  {
   "cell_type": "code",
   "execution_count": 4,
   "metadata": {},
   "outputs": [],
   "source": [
    "# Ranker 2 (Rap)\n",
    "url = 'https://www.ranker.com/list/best-hip-hop-artists-in-2018/ranker-music'\n",
    "response = requests.get(url)\n",
    "soup = BeautifulSoup(response.text, 'lxml')\n",
    "\n",
    "rappers_ranker_2 = []\n",
    "for artist in soup.findAll('meta', {'itemprop':'name'}):\n",
    "    if artist['content'] != 'The Best Rappers Of 2018, Ranked':\n",
    "        rappers_ranker_2.append(artist['content'].lower().strip())"
   ]
  },
  {
   "cell_type": "code",
   "execution_count": 5,
   "metadata": {},
   "outputs": [],
   "source": [
    "genres['rap'] = list(set(sorted(rappers_ranker_1 + rappers_ranker_2)))"
   ]
  },
  {
   "cell_type": "markdown",
   "metadata": {},
   "source": [
    "### Metal"
   ]
  },
  {
   "cell_type": "code",
   "execution_count": 6,
   "metadata": {},
   "outputs": [],
   "source": [
    "url = 'https://www.thetoptens.com/top-heavy-metal-bands/'\n",
    "response = requests.get(url)\n",
    "soup = BeautifulSoup(response.text, 'lxml')\n",
    "\n",
    "# Find all commenters\n",
    "commenters = []\n",
    "for commenter in soup.findAll('p'):\n",
    "    commenter_username = commenter.find('b')\n",
    "    if commenter_username:\n",
    "        commenters.append(commenter_username.get_text().lower().strip())\n",
    "\n",
    "# Toptens (Metal)\n",
    "metal_toptens = []\n",
    "for artist in soup.findAll('b')[1:]:\n",
    "    artist_name = artist.get_text().lower().strip()\n",
    "    if artist_name not in commenters:\n",
    "        if artist_name[0:3] != '1. ':\n",
    "            metal_toptens.append(artist_name)"
   ]
  },
  {
   "cell_type": "code",
   "execution_count": 7,
   "metadata": {},
   "outputs": [],
   "source": [
    "genres['metal'] = list(set(sorted(metal_toptens)))"
   ]
  },
  {
   "cell_type": "markdown",
   "metadata": {},
   "source": [
    "### Country"
   ]
  },
  {
   "cell_type": "code",
   "execution_count": 8,
   "metadata": {},
   "outputs": [],
   "source": [
    "# Ranker (Country)\n",
    "url = 'https://www.ranker.com/list/top-country-artists-of-all-time/samantha-dillinger'\n",
    "response = requests.get(url)\n",
    "soup = BeautifulSoup(response.text, 'lxml')\n",
    "\n",
    "country_ranker = []\n",
    "for artist in soup.findAll('meta', {'itemprop':'name'}):\n",
    "    if artist['content'] != 'The Top Country Artists of All Time':\n",
    "        country_ranker.append(artist['content'].lower().strip())"
   ]
  },
  {
   "cell_type": "code",
   "execution_count": 9,
   "metadata": {},
   "outputs": [],
   "source": [
    "# Ranker (Modern country)\n",
    "url = 'https://www.ranker.com/list/best-new-country-artists/ranker-music'\n",
    "response = requests.get(url)\n",
    "soup = BeautifulSoup(response.text, 'lxml')\n",
    "\n",
    "modern_country_ranker = []\n",
    "for artist in soup.findAll('meta', {'itemprop':'name'}):\n",
    "    if artist['content'] != 'The Best New Country Artists':\n",
    "        modern_country_ranker.append(artist['content'].lower().strip())"
   ]
  },
  {
   "cell_type": "code",
   "execution_count": 10,
   "metadata": {},
   "outputs": [],
   "source": [
    "genres['country'] = list(set(sorted(country_ranker + modern_country_ranker)))"
   ]
  },
  {
   "cell_type": "markdown",
   "metadata": {},
   "source": [
    "### Rock"
   ]
  },
  {
   "cell_type": "code",
   "execution_count": 11,
   "metadata": {},
   "outputs": [],
   "source": [
    "# Ranker (Rock)\n",
    "url = 'https://www.ranker.com/crowdranked-list/the-best-rock-bands-of-all-time'\n",
    "response = requests.get(url)\n",
    "soup = BeautifulSoup(response.text, 'lxml')\n",
    "\n",
    "rock_ranker = []\n",
    "for artist in soup.findAll('meta', {'itemprop':'name'}):\n",
    "    if artist['content'] != 'The Best Rock Bands of All Time':\n",
    "        rock_ranker.append(artist['content'].lower().strip())"
   ]
  },
  {
   "cell_type": "code",
   "execution_count": 12,
   "metadata": {},
   "outputs": [],
   "source": [
    "# Ranker (Modern Rock)\n",
    "url = 'https://www.ranker.com/list/modern-rock-bands-and-musicians/reference'\n",
    "response = requests.get(url)\n",
    "soup = BeautifulSoup(response.text, 'lxml')\n",
    "\n",
    "modern_rock_ranker = []\n",
    "for artist in soup.findAll('meta', {'itemprop':'name'}):\n",
    "    if artist['content'] != 'The Best Modern Rock Bands/Artists':\n",
    "        modern_rock_ranker.append(artist['content'].lower().strip())"
   ]
  },
  {
   "cell_type": "code",
   "execution_count": 13,
   "metadata": {},
   "outputs": [],
   "source": [
    "# Ranker (Indie Rock)\n",
    "url = 'https://www.ranker.com/list/indie-bands-and-artists/reference'\n",
    "response = requests.get(url)\n",
    "soup = BeautifulSoup(response.text, 'lxml')\n",
    "\n",
    "indie_ranker = []\n",
    "for artist in soup.findAll('meta', {'itemprop':'name'}):\n",
    "    if artist['content'] != 'The Best Indie Bands & Artists':\n",
    "        indie_ranker.append(artist['content'].lower().strip())"
   ]
  },
  {
   "cell_type": "code",
   "execution_count": 14,
   "metadata": {},
   "outputs": [],
   "source": [
    "genres['rock'] = list(set(sorted(rock_ranker + modern_rock_ranker + indie_ranker)))"
   ]
  },
  {
   "cell_type": "markdown",
   "metadata": {},
   "source": [
    "### Pop"
   ]
  },
  {
   "cell_type": "code",
   "execution_count": 15,
   "metadata": {},
   "outputs": [],
   "source": [
    "# Billboard (Pop)\n",
    "url = 'https://www.billboard.com/charts/greatest-of-all-time-pop-songs-artists'\n",
    "response = requests.get(url)\n",
    "soup = BeautifulSoup(response.text, 'lxml')\n",
    "\n",
    "pop_billboard = []\n",
    "for artist in soup.findAll('a', {'href':re.compile('/music/')}):\n",
    "    artist = artist.get_text().replace('\\n', '')\n",
    "    pop_billboard.append(artist.lower().strip())"
   ]
  },
  {
   "cell_type": "code",
   "execution_count": 16,
   "metadata": {},
   "outputs": [],
   "source": [
    "genres['pop'] = list(set(sorted(pop_billboard)))"
   ]
  },
  {
   "cell_type": "markdown",
   "metadata": {},
   "source": [
    "### Soul"
   ]
  },
  {
   "cell_type": "code",
   "execution_count": 17,
   "metadata": {},
   "outputs": [],
   "source": [
    "# Ranker (Soul)\n",
    "url = 'https://www.ranker.com/list/soul-music-bands-and-musicians/reference'\n",
    "response = requests.get(url)\n",
    "soup = BeautifulSoup(response.text, 'lxml')\n",
    "\n",
    "soul_ranker = []\n",
    "for artist in soup.findAll('meta', {'itemprop':'name'}):\n",
    "    if artist['content'] != 'The Best Soul Singers/Groups of All Time':\n",
    "        soul_ranker.append(artist['content'].lower().strip())"
   ]
  },
  {
   "cell_type": "code",
   "execution_count": 18,
   "metadata": {},
   "outputs": [],
   "source": [
    "genres['soul'] = list(set(sorted(soul_ranker)))"
   ]
  },
  {
   "cell_type": "markdown",
   "metadata": {},
   "source": [
    "### Remove duplicates"
   ]
  },
  {
   "cell_type": "code",
   "execution_count": 19,
   "metadata": {},
   "outputs": [],
   "source": [
    "# Country & pop (becomes pop)\n",
    "genres['country'] = sorted([artist for artist in genres['country'] if artist not in genres['pop']])\n",
    "\n",
    "# Country & rock (becomes rock)\n",
    "genres['country'] = sorted([artist for artist in genres['country'] if artist not in genres['rock']])\n",
    "\n",
    "# Metal & rock (becomes metal)\n",
    "genres['rock'] = sorted([artist for artist in genres['rock'] if artist not in genres['metal']])\n",
    "\n",
    "# Pop & rock (becomes pop)\n",
    "genres['rock'] = sorted([artist for artist in genres['rock'] if artist not in genres['pop']])\n",
    "\n",
    "# Pop & rap (becomes rap)\n",
    "genres['pop'] = sorted([artist for artist in genres['pop'] if artist not in genres['rap']])"
   ]
  },
  {
   "cell_type": "markdown",
   "metadata": {},
   "source": [
    "### Convert *genres* dictionary to json"
   ]
  },
  {
   "cell_type": "code",
   "execution_count": 20,
   "metadata": {},
   "outputs": [],
   "source": [
    "json_genres = json.dumps(genres, indent=4, sort_keys=True)"
   ]
  },
  {
   "cell_type": "code",
   "execution_count": 21,
   "metadata": {},
   "outputs": [],
   "source": [
    "file = open('.\\\\data\\\\json_genres.json', 'w')\n",
    "file.write(json_genres)\n",
    "file.close()"
   ]
  }
 ],
 "metadata": {
  "kernelspec": {
   "display_name": "Python 3",
   "language": "python",
   "name": "python3"
  },
  "language_info": {
   "codemirror_mode": {
    "name": "ipython",
    "version": 3
   },
   "file_extension": ".py",
   "mimetype": "text/x-python",
   "name": "python",
   "nbconvert_exporter": "python",
   "pygments_lexer": "ipython3",
   "version": "3.6.5"
  }
 },
 "nbformat": 4,
 "nbformat_minor": 2
}
